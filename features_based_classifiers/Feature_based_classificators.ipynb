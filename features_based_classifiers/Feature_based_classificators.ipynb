{
 "cells": [
  {
   "cell_type": "code",
   "execution_count": 1,
   "metadata": {},
   "outputs": [
    {
     "name": "stderr",
     "output_type": "stream",
     "text": [
      "/home/misha/anaconda3/lib/python3.6/site-packages/sklearn/ensemble/weight_boosting.py:29: DeprecationWarning: numpy.core.umath_tests is an internal NumPy module and should not be imported. It will be removed in a future NumPy release.\n",
      "  from numpy.core.umath_tests import inner1d\n"
     ]
    }
   ],
   "source": [
    "import warnings\n",
    "warnings.filterwarnings('ignore')\n",
    "import itertools\n",
    "import numpy as np\n",
    "import pandas as pd\n",
    "import matplotlib.pyplot as plt\n",
    "import pickle\n",
    "import sklearn\n",
    "from sklearn.preprocessing import StandardScaler\n",
    "from sklearn.metrics import accuracy_score\n",
    "from sklearn.model_selection import StratifiedKFold\n",
    "from sklearn.metrics import confusion_matrix\n",
    "\n",
    "from sklearn.decomposition import PCA\n",
    "from sklearn.manifold import TSNE\n",
    "from sklearn.discriminant_analysis import LinearDiscriminantAnalysis as LDA\n",
    "\n",
    "from sklearn.linear_model import LogisticRegression\n",
    "from sklearn.tree import DecisionTreeClassifier\n",
    "from sklearn.ensemble import RandomForestClassifier\n",
    "from sklearn.svm import SVC\n",
    "from sklearn.model_selection import train_test_split\n",
    "from sklearn.utils import shuffle\n",
    "\n",
    "from sklearn.neighbors import KNeighborsClassifier\n",
    "\n",
    "from sklearn.ensemble import GradientBoostingClassifier\n",
    "from sklearn.cluster import KMeans"
   ]
  },
  {
   "cell_type": "code",
   "execution_count": 2,
   "metadata": {},
   "outputs": [],
   "source": [
    "# Genre dictionary\n",
    "genres = {'metal': 0, 'disco': 1, 'classical': 2, 'hiphop': 3, 'jazz': 4, \n",
    "          'country': 5, 'pop': 6, 'blues': 7, 'reggae': 8, 'rock': 9}"
   ]
  },
  {
   "cell_type": "code",
   "execution_count": 3,
   "metadata": {},
   "outputs": [],
   "source": [
    "features = pickle.load(open(\"cached_music_features.pkl\", \"rb\"))"
   ]
  },
  {
   "cell_type": "code",
   "execution_count": 4,
   "metadata": {},
   "outputs": [],
   "source": [
    "df_features = pd.DataFrame(features)"
   ]
  },
  {
   "cell_type": "code",
   "execution_count": 5,
   "metadata": {},
   "outputs": [
    {
     "data": {
      "text/html": [
       "<div>\n",
       "<style scoped>\n",
       "    .dataframe tbody tr th:only-of-type {\n",
       "        vertical-align: middle;\n",
       "    }\n",
       "\n",
       "    .dataframe tbody tr th {\n",
       "        vertical-align: top;\n",
       "    }\n",
       "\n",
       "    .dataframe thead th {\n",
       "        text-align: right;\n",
       "    }\n",
       "</style>\n",
       "<table border=\"1\" class=\"dataframe\">\n",
       "  <thead>\n",
       "    <tr style=\"text-align: right;\">\n",
       "      <th></th>\n",
       "      <th>bandwith_kurtosis</th>\n",
       "      <th>bandwith_mean</th>\n",
       "      <th>bandwith_skew</th>\n",
       "      <th>bandwith_std</th>\n",
       "      <th>centr_kurtosis</th>\n",
       "      <th>centr_mean</th>\n",
       "      <th>centr_skew</th>\n",
       "      <th>centr_std</th>\n",
       "      <th>chroma_kurtosis</th>\n",
       "      <th>chroma_mean</th>\n",
       "      <th>...</th>\n",
       "      <th>roloff_std</th>\n",
       "      <th>signal_kurtosis</th>\n",
       "      <th>signal_mean</th>\n",
       "      <th>signal_skew</th>\n",
       "      <th>signal_std</th>\n",
       "      <th>tempo</th>\n",
       "      <th>zcr_kurtosis</th>\n",
       "      <th>zcr_mean</th>\n",
       "      <th>zcr_skew</th>\n",
       "      <th>zcr_std</th>\n",
       "    </tr>\n",
       "  </thead>\n",
       "  <tbody>\n",
       "    <tr>\n",
       "      <th>0</th>\n",
       "      <td>-0.736019</td>\n",
       "      <td>2207.978432</td>\n",
       "      <td>0.384195</td>\n",
       "      <td>341.854074</td>\n",
       "      <td>1.396051</td>\n",
       "      <td>2656.998687</td>\n",
       "      <td>1.271128</td>\n",
       "      <td>618.443869</td>\n",
       "      <td>-0.804307</td>\n",
       "      <td>0.586958</td>\n",
       "      <td>...</td>\n",
       "      <td>1098.884320</td>\n",
       "      <td>0.752290</td>\n",
       "      <td>-0.003150</td>\n",
       "      <td>-0.021400</td>\n",
       "      <td>0.089359</td>\n",
       "      <td>129.199219</td>\n",
       "      <td>2.527677</td>\n",
       "      <td>0.173154</td>\n",
       "      <td>1.461315</td>\n",
       "      <td>0.060971</td>\n",
       "    </tr>\n",
       "    <tr>\n",
       "      <th>1</th>\n",
       "      <td>-0.411049</td>\n",
       "      <td>2392.311129</td>\n",
       "      <td>-0.142085</td>\n",
       "      <td>303.218685</td>\n",
       "      <td>0.165163</td>\n",
       "      <td>2689.610054</td>\n",
       "      <td>0.992572</td>\n",
       "      <td>703.366405</td>\n",
       "      <td>-1.042674</td>\n",
       "      <td>0.545495</td>\n",
       "      <td>...</td>\n",
       "      <td>1100.310599</td>\n",
       "      <td>1.262312</td>\n",
       "      <td>-0.003201</td>\n",
       "      <td>-0.050187</td>\n",
       "      <td>0.081575</td>\n",
       "      <td>123.046875</td>\n",
       "      <td>0.883735</td>\n",
       "      <td>0.159210</td>\n",
       "      <td>1.186363</td>\n",
       "      <td>0.074393</td>\n",
       "    </tr>\n",
       "    <tr>\n",
       "      <th>2</th>\n",
       "      <td>-0.558755</td>\n",
       "      <td>2347.775718</td>\n",
       "      <td>0.460658</td>\n",
       "      <td>283.266363</td>\n",
       "      <td>2.532054</td>\n",
       "      <td>2596.928106</td>\n",
       "      <td>1.565968</td>\n",
       "      <td>663.691883</td>\n",
       "      <td>-0.951767</td>\n",
       "      <td>0.475191</td>\n",
       "      <td>...</td>\n",
       "      <td>1040.116071</td>\n",
       "      <td>1.253679</td>\n",
       "      <td>-0.003217</td>\n",
       "      <td>0.017817</td>\n",
       "      <td>0.085141</td>\n",
       "      <td>123.046875</td>\n",
       "      <td>3.143121</td>\n",
       "      <td>0.149573</td>\n",
       "      <td>1.656892</td>\n",
       "      <td>0.069112</td>\n",
       "    </tr>\n",
       "    <tr>\n",
       "      <th>3</th>\n",
       "      <td>0.089714</td>\n",
       "      <td>2284.183064</td>\n",
       "      <td>0.754692</td>\n",
       "      <td>271.201367</td>\n",
       "      <td>5.118727</td>\n",
       "      <td>2639.472902</td>\n",
       "      <td>2.041764</td>\n",
       "      <td>569.197247</td>\n",
       "      <td>-0.826419</td>\n",
       "      <td>0.426117</td>\n",
       "      <td>...</td>\n",
       "      <td>949.001644</td>\n",
       "      <td>0.811596</td>\n",
       "      <td>-0.003261</td>\n",
       "      <td>0.014790</td>\n",
       "      <td>0.091118</td>\n",
       "      <td>123.046875</td>\n",
       "      <td>3.409404</td>\n",
       "      <td>0.163639</td>\n",
       "      <td>1.535117</td>\n",
       "      <td>0.062564</td>\n",
       "    </tr>\n",
       "    <tr>\n",
       "      <th>4</th>\n",
       "      <td>0.053184</td>\n",
       "      <td>2240.116552</td>\n",
       "      <td>0.738403</td>\n",
       "      <td>233.250826</td>\n",
       "      <td>0.229051</td>\n",
       "      <td>2420.675268</td>\n",
       "      <td>0.226451</td>\n",
       "      <td>415.018190</td>\n",
       "      <td>-0.856493</td>\n",
       "      <td>0.462298</td>\n",
       "      <td>...</td>\n",
       "      <td>822.153657</td>\n",
       "      <td>1.126058</td>\n",
       "      <td>-0.003208</td>\n",
       "      <td>-0.011495</td>\n",
       "      <td>0.084603</td>\n",
       "      <td>123.046875</td>\n",
       "      <td>-0.100503</td>\n",
       "      <td>0.146954</td>\n",
       "      <td>0.209864</td>\n",
       "      <td>0.048865</td>\n",
       "    </tr>\n",
       "  </tbody>\n",
       "</table>\n",
       "<p>5 rows × 90 columns</p>\n",
       "</div>"
      ],
      "text/plain": [
       "   bandwith_kurtosis  bandwith_mean  bandwith_skew  bandwith_std  \\\n",
       "0          -0.736019    2207.978432       0.384195    341.854074   \n",
       "1          -0.411049    2392.311129      -0.142085    303.218685   \n",
       "2          -0.558755    2347.775718       0.460658    283.266363   \n",
       "3           0.089714    2284.183064       0.754692    271.201367   \n",
       "4           0.053184    2240.116552       0.738403    233.250826   \n",
       "\n",
       "   centr_kurtosis   centr_mean  centr_skew   centr_std  chroma_kurtosis  \\\n",
       "0        1.396051  2656.998687    1.271128  618.443869        -0.804307   \n",
       "1        0.165163  2689.610054    0.992572  703.366405        -1.042674   \n",
       "2        2.532054  2596.928106    1.565968  663.691883        -0.951767   \n",
       "3        5.118727  2639.472902    2.041764  569.197247        -0.826419   \n",
       "4        0.229051  2420.675268    0.226451  415.018190        -0.856493   \n",
       "\n",
       "   chroma_mean    ...      roloff_std  signal_kurtosis  signal_mean  \\\n",
       "0     0.586958    ...     1098.884320         0.752290    -0.003150   \n",
       "1     0.545495    ...     1100.310599         1.262312    -0.003201   \n",
       "2     0.475191    ...     1040.116071         1.253679    -0.003217   \n",
       "3     0.426117    ...      949.001644         0.811596    -0.003261   \n",
       "4     0.462298    ...      822.153657         1.126058    -0.003208   \n",
       "\n",
       "   signal_skew  signal_std       tempo  zcr_kurtosis  zcr_mean  zcr_skew  \\\n",
       "0    -0.021400    0.089359  129.199219      2.527677  0.173154  1.461315   \n",
       "1    -0.050187    0.081575  123.046875      0.883735  0.159210  1.186363   \n",
       "2     0.017817    0.085141  123.046875      3.143121  0.149573  1.656892   \n",
       "3     0.014790    0.091118  123.046875      3.409404  0.163639  1.535117   \n",
       "4    -0.011495    0.084603  123.046875     -0.100503  0.146954  0.209864   \n",
       "\n",
       "    zcr_std  \n",
       "0  0.060971  \n",
       "1  0.074393  \n",
       "2  0.069112  \n",
       "3  0.062564  \n",
       "4  0.048865  \n",
       "\n",
       "[5 rows x 90 columns]"
      ]
     },
     "execution_count": 5,
     "metadata": {},
     "output_type": "execute_result"
    }
   ],
   "source": [
    "df_features.head()"
   ]
  },
  {
   "cell_type": "code",
   "execution_count": 6,
   "metadata": {},
   "outputs": [],
   "source": [
    "X = df_features.drop(['genre'], axis=1).values\n",
    "y = df_features['genre'].ravel()"
   ]
  },
  {
   "cell_type": "markdown",
   "metadata": {},
   "source": [
    "Below is splitting data on train and test (70/30) in such a way that every audio track (all of 19 parts of it) will be either only in train or only in test dataset:"
   ]
  },
  {
   "cell_type": "code",
   "execution_count": 7,
   "metadata": {},
   "outputs": [],
   "source": [
    "scale = StandardScaler()\n",
    "std_x = scale.fit_transform(X)\n",
    "X_train, X_test, y_train, y_test = [],[],[],[]\n",
    "for i in range(0,19000,19 * 100):\n",
    "    for j in range(0, 19 * 30):\n",
    "        X_test.append(std_x[i + j])\n",
    "        y_test.append(y[i + j])\n",
    "    for j in range(19 * 30, 19 * 100):\n",
    "        X_train.append(std_x[i + j])\n",
    "        y_train.append(y[i + j])\n",
    "        \n",
    "X_train = np.array(X_train)\n",
    "X_test= np.array(X_test)\n",
    "y_train= np.array(y_train)\n",
    "y_test= np.array(y_test)"
   ]
  },
  {
   "cell_type": "code",
   "execution_count": 8,
   "metadata": {},
   "outputs": [
    {
     "data": {
      "text/plain": [
       "(13300, 89)"
      ]
     },
     "execution_count": 8,
     "metadata": {},
     "output_type": "execute_result"
    }
   ],
   "source": [
    "X_train.shape"
   ]
  },
  {
   "cell_type": "markdown",
   "metadata": {},
   "source": [
    "Here is the function for prediction by majority voting:"
   ]
  },
  {
   "cell_type": "code",
   "execution_count": 9,
   "metadata": {},
   "outputs": [],
   "source": [
    "def predict_by_voting(cls, X_train, X_test, y_train, y_test, title):\n",
    "    \n",
    "    cls.fit(X_train, y_train)\n",
    "    y_hat = cls.predict_proba(X_test)\n",
    "    \n",
    "    cnt = 0\n",
    "    for i in range(0,len(X_test),19):\n",
    "        vec = y_hat[i].copy()\n",
    "        for j in range(1,19):\n",
    "            vec += y_hat[i + j]\n",
    "        if np.argmax(vec) == y_test[i]:\n",
    "            cnt += 1\n",
    "\n",
    "    print(title, \": \", cnt / (len(X_test) / 19))"
   ]
  },
  {
   "cell_type": "code",
   "execution_count": 10,
   "metadata": {},
   "outputs": [
    {
     "name": "stdout",
     "output_type": "stream",
     "text": [
      "KNN:  :  0.82\n"
     ]
    }
   ],
   "source": [
    "predict_by_voting(KNeighborsClassifier(n_neighbors=5), X_train, X_test, y_train, y_test, \"KNN: \")"
   ]
  },
  {
   "cell_type": "code",
   "execution_count": 12,
   "metadata": {},
   "outputs": [
    {
     "name": "stdout",
     "output_type": "stream",
     "text": [
      "KNN 10: :  0.8166666666666667\n"
     ]
    }
   ],
   "source": [
    "predict_by_voting(KNeighborsClassifier(n_neighbors=10), X_train, X_test, y_train, y_test, \"KNN 10:\")"
   ]
  },
  {
   "cell_type": "code",
   "execution_count": 37,
   "metadata": {},
   "outputs": [
    {
     "name": "stdout",
     "output_type": "stream",
     "text": [
      "Random forest :  0.7933333333333333\n"
     ]
    }
   ],
   "source": [
    "predict_by_voting(RandomForestClassifier(n_estimators=500, criterion='gini'), X_train, X_test, y_train, y_test, \"Random forest: \")"
   ]
  },
  {
   "cell_type": "code",
   "execution_count": 11,
   "metadata": {},
   "outputs": [
    {
     "name": "stdout",
     "output_type": "stream",
     "text": [
      "SVM rbf:  :  0.87\n"
     ]
    }
   ],
   "source": [
    "predict_by_voting(SVC(C=2,kernel='rbf', probability=True), X_train, X_test, y_train, y_test, \"SVM rbf: \")"
   ]
  },
  {
   "cell_type": "code",
   "execution_count": 15,
   "metadata": {},
   "outputs": [
    {
     "name": "stdout",
     "output_type": "stream",
     "text": [
      "SVM rbf, C=2 :  0.8\n"
     ]
    }
   ],
   "source": [
    "predict_by_voting(SVC(C=2,kernel='poly', probability=True), X_train, X_test, y_train, y_test, \"SVM poly: \")"
   ]
  },
  {
   "cell_type": "code",
   "execution_count": 16,
   "metadata": {},
   "outputs": [
    {
     "name": "stdout",
     "output_type": "stream",
     "text": [
      "SVM rbf, C=2 :  0.81\n"
     ]
    }
   ],
   "source": [
    "predict_by_voting(SVC(C=2,kernel='linear', probability=True), X_train, X_test, y_train, y_test, \"SVM linear: \")"
   ]
  },
  {
   "cell_type": "code",
   "execution_count": 10,
   "metadata": {},
   "outputs": [],
   "source": [
    "import xgboost as xgb"
   ]
  },
  {
   "cell_type": "code",
   "execution_count": 12,
   "metadata": {},
   "outputs": [
    {
     "name": "stdout",
     "output_type": "stream",
     "text": [
      "XGB:  :  0.8466666666666667\n"
     ]
    }
   ],
   "source": [
    "predict_by_voting(xgb.XGBClassifier(learning_rate=0.1, objective='multi:softprob', \n",
    "                                   n_estimators=500, sub_sample = 0.8, num_class = len(genres)), X_train, X_test, y_train, y_test, \"XGB: \")"
   ]
  },
  {
   "cell_type": "code",
   "execution_count": 12,
   "metadata": {},
   "outputs": [],
   "source": [
    "from sklearn.neural_network import MLPClassifier"
   ]
  },
  {
   "cell_type": "code",
   "execution_count": 13,
   "metadata": {},
   "outputs": [
    {
     "name": "stdout",
     "output_type": "stream",
     "text": [
      "Perceptron:  :  0.87\n"
     ]
    }
   ],
   "source": [
    "predict_by_voting(MLPClassifier(max_iter=1000,random_state=2,hidden_layer_sizes=[512,256,256,64]), X_train, X_test, y_train, y_test, \"Perceptron: \")"
   ]
  },
  {
   "cell_type": "code",
   "execution_count": 20,
   "metadata": {},
   "outputs": [
    {
     "name": "stdout",
     "output_type": "stream",
     "text": [
      "Perceptron:  :  0.8366666666666667\n"
     ]
    }
   ],
   "source": [
    "predict_by_voting(MLPClassifier(max_iter=1000,random_state=2,hidden_layer_sizes=[512,256,64], activation = 'tanh'), X_train, X_test, y_train, y_test, \"Perceptron: \")"
   ]
  },
  {
   "cell_type": "code",
   "execution_count": 21,
   "metadata": {},
   "outputs": [
    {
     "name": "stdout",
     "output_type": "stream",
     "text": [
      "Perceptron:  :  0.8666666666666667\n"
     ]
    }
   ],
   "source": [
    "predict_by_voting(MLPClassifier(max_iter=1000,random_state=2,hidden_layer_sizes=[512,256,256,64], activation = 'relu'), X_train, X_test, y_train, y_test, \"Perceptron: \")"
   ]
  },
  {
   "cell_type": "code",
   "execution_count": 22,
   "metadata": {},
   "outputs": [
    {
     "name": "stdout",
     "output_type": "stream",
     "text": [
      "Perceptron:  :  0.8666666666666667\n"
     ]
    }
   ],
   "source": [
    "predict_by_voting(MLPClassifier(max_iter=5000,random_state=2,hidden_layer_sizes=[512,256,256,64], activation = 'relu'), X_train, X_test, y_train, y_test, \"Perceptron: \")"
   ]
  }
 ],
 "metadata": {
  "kernelspec": {
   "display_name": "Python 3",
   "language": "python",
   "name": "python3"
  },
  "language_info": {
   "codemirror_mode": {
    "name": "ipython",
    "version": 3
   },
   "file_extension": ".py",
   "mimetype": "text/x-python",
   "name": "python",
   "nbconvert_exporter": "python",
   "pygments_lexer": "ipython3",
   "version": "3.6.7"
  }
 },
 "nbformat": 4,
 "nbformat_minor": 2
}
